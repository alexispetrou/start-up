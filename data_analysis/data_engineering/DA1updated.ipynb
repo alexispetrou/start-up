{
 "cells": [
  {
   "cell_type": "markdown",
   "id": "7997e562",
   "metadata": {},
   "source": [
    "### Διαβάζουμε το dataset"
   ]
  },
  {
   "cell_type": "code",
   "execution_count": 1,
   "id": "65e6b4d1",
   "metadata": {},
   "outputs": [],
   "source": [
    "import pandas as pd\n",
    "\n",
    "df = pd.read_csv('greece_listings.csv')"
   ]
  },
  {
   "cell_type": "code",
   "execution_count": 2,
   "id": "6088e53d",
   "metadata": {},
   "outputs": [
    {
     "data": {
      "text/plain": [
       "20000"
      ]
     },
     "execution_count": 2,
     "metadata": {},
     "output_type": "execute_result"
    }
   ],
   "source": [
    "len(df)"
   ]
  },
  {
   "cell_type": "code",
   "execution_count": 3,
   "id": "4839ae93",
   "metadata": {},
   "outputs": [
    {
     "data": {
      "text/html": [
       "<div>\n",
       "<style scoped>\n",
       "    .dataframe tbody tr th:only-of-type {\n",
       "        vertical-align: middle;\n",
       "    }\n",
       "\n",
       "    .dataframe tbody tr th {\n",
       "        vertical-align: top;\n",
       "    }\n",
       "\n",
       "    .dataframe thead th {\n",
       "        text-align: right;\n",
       "    }\n",
       "</style>\n",
       "<table border=\"1\" class=\"dataframe\">\n",
       "  <thead>\n",
       "    <tr style=\"text-align: right;\">\n",
       "      <th></th>\n",
       "      <th>location_name</th>\n",
       "      <th>location_region</th>\n",
       "      <th>res_date</th>\n",
       "      <th>res_type</th>\n",
       "      <th>res_address</th>\n",
       "      <th>res_price</th>\n",
       "      <th>res_price_sqr</th>\n",
       "      <th>res_sqr</th>\n",
       "      <th>construction_year</th>\n",
       "      <th>levels</th>\n",
       "      <th>...</th>\n",
       "      <th>energyclass</th>\n",
       "      <th>auto_heating</th>\n",
       "      <th>solar</th>\n",
       "      <th>cooling</th>\n",
       "      <th>safe_door</th>\n",
       "      <th>gas</th>\n",
       "      <th>fireplace</th>\n",
       "      <th>furniture</th>\n",
       "      <th>student</th>\n",
       "      <th>parking</th>\n",
       "    </tr>\n",
       "  </thead>\n",
       "  <tbody>\n",
       "    <tr>\n",
       "      <th>0</th>\n",
       "      <td>Παλαιό Φάληρο</td>\n",
       "      <td>Αττική</td>\n",
       "      <td>2021-06-18</td>\n",
       "      <td>Διαμέρισμα</td>\n",
       "      <td>Παλαιό Φάληρο,Γήπεδα</td>\n",
       "      <td>89000</td>\n",
       "      <td>1618.0</td>\n",
       "      <td>55.0</td>\n",
       "      <td>1973.0</td>\n",
       "      <td>Υπερυψωμένο</td>\n",
       "      <td>...</td>\n",
       "      <td>Δ</td>\n",
       "      <td>1</td>\n",
       "      <td>0</td>\n",
       "      <td>1</td>\n",
       "      <td>1</td>\n",
       "      <td>0</td>\n",
       "      <td>0</td>\n",
       "      <td>0</td>\n",
       "      <td>0</td>\n",
       "      <td>NaN</td>\n",
       "    </tr>\n",
       "    <tr>\n",
       "      <th>1</th>\n",
       "      <td>Αχαρνές</td>\n",
       "      <td>Αττική</td>\n",
       "      <td>2022-03-30</td>\n",
       "      <td>Μεζονέτα</td>\n",
       "      <td>Αχαρνές,Λαθέα</td>\n",
       "      <td>150000</td>\n",
       "      <td>1531.0</td>\n",
       "      <td>98.0</td>\n",
       "      <td>2010.0</td>\n",
       "      <td>4ος</td>\n",
       "      <td>...</td>\n",
       "      <td>Γ</td>\n",
       "      <td>0</td>\n",
       "      <td>0</td>\n",
       "      <td>0</td>\n",
       "      <td>0</td>\n",
       "      <td>0</td>\n",
       "      <td>1</td>\n",
       "      <td>0</td>\n",
       "      <td>0</td>\n",
       "      <td>Κλειστό parking</td>\n",
       "    </tr>\n",
       "  </tbody>\n",
       "</table>\n",
       "<p>2 rows × 25 columns</p>\n",
       "</div>"
      ],
      "text/plain": [
       "   location_name location_region    res_date    res_type  \\\n",
       "0  Παλαιό Φάληρο          Αττική  2021-06-18  Διαμέρισμα   \n",
       "1        Αχαρνές          Αττική  2022-03-30    Μεζονέτα   \n",
       "\n",
       "            res_address  res_price  res_price_sqr  res_sqr  construction_year  \\\n",
       "0  Παλαιό Φάληρο,Γήπεδα      89000         1618.0     55.0             1973.0   \n",
       "1         Αχαρνές,Λαθέα     150000         1531.0     98.0             2010.0   \n",
       "\n",
       "        levels  ...  energyclass  auto_heating  solar cooling safe_door gas  \\\n",
       "0  Υπερυψωμένο  ...            Δ             1      0       1         1   0   \n",
       "1          4ος  ...            Γ             0      0       0         0   0   \n",
       "\n",
       "   fireplace  furniture  student          parking  \n",
       "0          0          0        0              NaN  \n",
       "1          1          0        0  Κλειστό parking  \n",
       "\n",
       "[2 rows x 25 columns]"
      ]
     },
     "execution_count": 3,
     "metadata": {},
     "output_type": "execute_result"
    }
   ],
   "source": [
    "df.head(2)"
   ]
  },
  {
   "cell_type": "code",
   "execution_count": 4,
   "id": "2b269706",
   "metadata": {},
   "outputs": [
    {
     "data": {
      "text/plain": [
       "np.int64(1000)"
      ]
     },
     "execution_count": 4,
     "metadata": {},
     "output_type": "execute_result"
    }
   ],
   "source": [
    "x=(df[\"location_name\"] == \"Πειραιάς\").sum()\n",
    "x"
   ]
  },
  {
   "cell_type": "markdown",
   "id": "801531ec",
   "metadata": {},
   "source": [
    "## Θα ασχοληθούμε μόνο με Πειραιά"
   ]
  },
  {
   "cell_type": "code",
   "execution_count": 5,
   "id": "1ef45b70",
   "metadata": {},
   "outputs": [],
   "source": [
    "new_df=df[df[\"location_name\"]== \"Πειραιάς\"]"
   ]
  },
  {
   "cell_type": "code",
   "execution_count": 6,
   "id": "a8b08720",
   "metadata": {},
   "outputs": [
    {
     "data": {
      "text/plain": [
       "1000"
      ]
     },
     "execution_count": 6,
     "metadata": {},
     "output_type": "execute_result"
    }
   ],
   "source": [
    "len(new_df)"
   ]
  },
  {
   "cell_type": "markdown",
   "id": "5b360de7",
   "metadata": {},
   "source": [
    "### Προφανώς δεν θέλουμε Location region,location name "
   ]
  },
  {
   "cell_type": "code",
   "execution_count": 7,
   "id": "3a4b0118",
   "metadata": {},
   "outputs": [
    {
     "data": {
      "text/html": [
       "<div>\n",
       "<style scoped>\n",
       "    .dataframe tbody tr th:only-of-type {\n",
       "        vertical-align: middle;\n",
       "    }\n",
       "\n",
       "    .dataframe tbody tr th {\n",
       "        vertical-align: top;\n",
       "    }\n",
       "\n",
       "    .dataframe thead th {\n",
       "        text-align: right;\n",
       "    }\n",
       "</style>\n",
       "<table border=\"1\" class=\"dataframe\">\n",
       "  <thead>\n",
       "    <tr style=\"text-align: right;\">\n",
       "      <th></th>\n",
       "      <th>res_date</th>\n",
       "      <th>res_type</th>\n",
       "      <th>res_address</th>\n",
       "      <th>res_price</th>\n",
       "      <th>res_price_sqr</th>\n",
       "      <th>res_sqr</th>\n",
       "      <th>construction_year</th>\n",
       "      <th>levels</th>\n",
       "      <th>bedrooms</th>\n",
       "      <th>bathrooms</th>\n",
       "      <th>...</th>\n",
       "      <th>energyclass</th>\n",
       "      <th>auto_heating</th>\n",
       "      <th>solar</th>\n",
       "      <th>cooling</th>\n",
       "      <th>safe_door</th>\n",
       "      <th>gas</th>\n",
       "      <th>fireplace</th>\n",
       "      <th>furniture</th>\n",
       "      <th>student</th>\n",
       "      <th>parking</th>\n",
       "    </tr>\n",
       "  </thead>\n",
       "  <tbody>\n",
       "    <tr>\n",
       "      <th>21</th>\n",
       "      <td>2019-08-08</td>\n",
       "      <td>Κτίριο</td>\n",
       "      <td>Πειραιάς,Καστέλα (Προφήτης Ηλίας)</td>\n",
       "      <td>360000</td>\n",
       "      <td>1324.0</td>\n",
       "      <td>272.0</td>\n",
       "      <td>1976.0</td>\n",
       "      <td>Ισόγειο</td>\n",
       "      <td>6.0</td>\n",
       "      <td>3.0</td>\n",
       "      <td>...</td>\n",
       "      <td>NaN</td>\n",
       "      <td>0</td>\n",
       "      <td>0</td>\n",
       "      <td>0</td>\n",
       "      <td>0</td>\n",
       "      <td>0</td>\n",
       "      <td>0</td>\n",
       "      <td>0</td>\n",
       "      <td>0</td>\n",
       "      <td>NaN</td>\n",
       "    </tr>\n",
       "  </tbody>\n",
       "</table>\n",
       "<p>1 rows × 23 columns</p>\n",
       "</div>"
      ],
      "text/plain": [
       "      res_date res_type                        res_address  res_price  \\\n",
       "21  2019-08-08   Κτίριο  Πειραιάς,Καστέλα (Προφήτης Ηλίας)     360000   \n",
       "\n",
       "    res_price_sqr  res_sqr  construction_year   levels  bedrooms  bathrooms  \\\n",
       "21         1324.0    272.0             1976.0  Ισόγειο       6.0        3.0   \n",
       "\n",
       "    ...  energyclass auto_heating solar cooling  safe_door  gas  fireplace  \\\n",
       "21  ...          NaN            0     0       0          0    0          0   \n",
       "\n",
       "    furniture  student  parking  \n",
       "21          0        0      NaN  \n",
       "\n",
       "[1 rows x 23 columns]"
      ]
     },
     "execution_count": 7,
     "metadata": {},
     "output_type": "execute_result"
    }
   ],
   "source": [
    "new_df = new_df.drop(columns=[\"location_region\", \"location_name\"])\n",
    "new_df.head(1)"
   ]
  },
  {
   "cell_type": "markdown",
   "id": "682513e9",
   "metadata": {},
   "source": [
    "### Για πόσα μέρη του Πειραιά έχουμε πληροφορίες??"
   ]
  },
  {
   "cell_type": "code",
   "execution_count": 8,
   "id": "65be7177",
   "metadata": {},
   "outputs": [
    {
     "data": {
      "text/plain": [
       "count                 1000\n",
       "unique                  47\n",
       "top       Πειραιάς,Καμίνια\n",
       "freq                   103\n",
       "Name: res_address, dtype: object"
      ]
     },
     "execution_count": 8,
     "metadata": {},
     "output_type": "execute_result"
    }
   ],
   "source": [
    "new_df[\"res_address\"].describe()"
   ]
  },
  {
   "cell_type": "markdown",
   "id": "71681967",
   "metadata": {},
   "source": [
    "47 όχι και άσχημα(Τι φάση γτ υπάρχουν καν 47...)"
   ]
  },
  {
   "cell_type": "code",
   "execution_count": 9,
   "id": "056b8114",
   "metadata": {},
   "outputs": [
    {
     "data": {
      "text/plain": [
       "['Πειραιάς,Καστέλα (Προφήτης Ηλίας)',\n",
       " 'Πειραιάς,Κέντρο',\n",
       " 'Πειραιάς,Ταμπούρια',\n",
       " 'Πειραιάς,Νέο Φάληρο',\n",
       " 'Πειραιάς,Φρεαττύδα',\n",
       " 'Πειραιάς,Χατζηκυριάκειο',\n",
       " 'Πειραιάς,Καμίνια',\n",
       " 'Πειραιάς,Ευαγγελίστρια',\n",
       " 'Πειραιάς,ΟΣΕ',\n",
       " 'Πειραιάς,Κοκκινιά',\n",
       " 'Πειραιάς,Καλλίπολη',\n",
       " 'Πειραιάς,Μανιάτικα',\n",
       " 'Άγιος Ιωάννης Ρέντης,Κέντρο',\n",
       " 'Πειραιάς,Τερψιθέα',\n",
       " 'Πειραιάς,Πασαλιμάνι (Μαρίνα Ζέας)',\n",
       " 'Πειραιάς,Αγία Σοφία',\n",
       " 'Νίκαια,Μητρόπολη',\n",
       " 'Κερατσίνι,Ευγένεια',\n",
       " 'Πειραιάς,Κεντρικός Λιμένας',\n",
       " 'Δραπετσώνα,Ταμπάκικα',\n",
       " 'Πειραιάς,Βρυώνη',\n",
       " 'Δραπετσώνα,Άγιος Παντελεήμων',\n",
       " 'Κερατσίνι,Λιμάνι',\n",
       " 'Δραπετσώνα,Άγιος Διονύσιος',\n",
       " 'Μοσχάτο',\n",
       " 'Πειραιάς,Πλατεία Ιπποδαμείας',\n",
       " 'Πειραιάς,Πειραϊκή',\n",
       " 'Κερατσίνι,Ταμπούρια',\n",
       " 'Κερατσίνι,Άγιος Παντελεήμονας',\n",
       " 'Κερατσίνι,Ανάσταση',\n",
       " 'Δραπετσώνα,Νέος Οικισμός',\n",
       " 'Κερατσίνι,Πάρκο',\n",
       " 'Πειραιάς,Υδραίικα',\n",
       " 'Νίκαια,Κέντρο',\n",
       " 'Δραπετσώνα',\n",
       " 'Πειραιάς,Άγιος Βασίλειος',\n",
       " 'Pireas,Τερψιθέα',\n",
       " 'Πειραιάς,Μικρολίμανο',\n",
       " 'Πειραιάς,Ζωοδόχος Πηγή',\n",
       " 'Pireas,Βρυώνη',\n",
       " 'Κερατσίνι',\n",
       " 'Νίκαια,Κοκκινιά',\n",
       " 'Ταμπάκικα',\n",
       " 'Άγιος Ιωάννης Ρέντης,Αμαξοστάσιο ΟΣΕ',\n",
       " 'Κερατσίνι,Αμφιάλη',\n",
       " 'Δραπετσώνα,Λιπάσματα',\n",
       " 'Κερατσίνι,Άγιος Γεώργιος']"
      ]
     },
     "execution_count": 9,
     "metadata": {},
     "output_type": "execute_result"
    }
   ],
   "source": [
    "list(new_df[\"res_address\"].unique())"
   ]
  },
  {
   "cell_type": "markdown",
   "id": "8ee8db6b",
   "metadata": {},
   "source": [
    "### οκ πήραμε και κάποιες γειτονικές περιοχές το οποίο δεν είναι απραίτητα κακό έχουμε ήδη λίγα δεδομένα(1000)"
   ]
  },
  {
   "cell_type": "markdown",
   "id": "fc1c1386",
   "metadata": {},
   "source": [
    "### Όπου έχει null στο parking θα το θεωρήσουμε false"
   ]
  },
  {
   "cell_type": "code",
   "execution_count": 10,
   "id": "d3d1b679",
   "metadata": {},
   "outputs": [],
   "source": [
    "new_df['parking'] = new_df['parking'].notna()\n",
    "new_df['parking'] = new_df['parking'].astype(int)"
   ]
  },
  {
   "cell_type": "code",
   "execution_count": 11,
   "id": "d30567fc",
   "metadata": {},
   "outputs": [
    {
     "data": {
      "text/html": [
       "<div>\n",
       "<style scoped>\n",
       "    .dataframe tbody tr th:only-of-type {\n",
       "        vertical-align: middle;\n",
       "    }\n",
       "\n",
       "    .dataframe tbody tr th {\n",
       "        vertical-align: top;\n",
       "    }\n",
       "\n",
       "    .dataframe thead th {\n",
       "        text-align: right;\n",
       "    }\n",
       "</style>\n",
       "<table border=\"1\" class=\"dataframe\">\n",
       "  <thead>\n",
       "    <tr style=\"text-align: right;\">\n",
       "      <th></th>\n",
       "      <th>res_date</th>\n",
       "      <th>res_type</th>\n",
       "      <th>res_address</th>\n",
       "      <th>res_price</th>\n",
       "      <th>res_price_sqr</th>\n",
       "      <th>res_sqr</th>\n",
       "      <th>construction_year</th>\n",
       "      <th>levels</th>\n",
       "      <th>bedrooms</th>\n",
       "      <th>bathrooms</th>\n",
       "      <th>...</th>\n",
       "      <th>energyclass</th>\n",
       "      <th>auto_heating</th>\n",
       "      <th>solar</th>\n",
       "      <th>cooling</th>\n",
       "      <th>safe_door</th>\n",
       "      <th>gas</th>\n",
       "      <th>fireplace</th>\n",
       "      <th>furniture</th>\n",
       "      <th>student</th>\n",
       "      <th>parking</th>\n",
       "    </tr>\n",
       "  </thead>\n",
       "  <tbody>\n",
       "    <tr>\n",
       "      <th>21</th>\n",
       "      <td>2019-08-08</td>\n",
       "      <td>Κτίριο</td>\n",
       "      <td>Πειραιάς,Καστέλα (Προφήτης Ηλίας)</td>\n",
       "      <td>360000</td>\n",
       "      <td>1324.0</td>\n",
       "      <td>272.0</td>\n",
       "      <td>1976.0</td>\n",
       "      <td>Ισόγειο</td>\n",
       "      <td>6.0</td>\n",
       "      <td>3.0</td>\n",
       "      <td>...</td>\n",
       "      <td>NaN</td>\n",
       "      <td>0</td>\n",
       "      <td>0</td>\n",
       "      <td>0</td>\n",
       "      <td>0</td>\n",
       "      <td>0</td>\n",
       "      <td>0</td>\n",
       "      <td>0</td>\n",
       "      <td>0</td>\n",
       "      <td>0</td>\n",
       "    </tr>\n",
       "  </tbody>\n",
       "</table>\n",
       "<p>1 rows × 23 columns</p>\n",
       "</div>"
      ],
      "text/plain": [
       "      res_date res_type                        res_address  res_price  \\\n",
       "21  2019-08-08   Κτίριο  Πειραιάς,Καστέλα (Προφήτης Ηλίας)     360000   \n",
       "\n",
       "    res_price_sqr  res_sqr  construction_year   levels  bedrooms  bathrooms  \\\n",
       "21         1324.0    272.0             1976.0  Ισόγειο       6.0        3.0   \n",
       "\n",
       "    ...  energyclass auto_heating solar cooling  safe_door  gas  fireplace  \\\n",
       "21  ...          NaN            0     0       0          0    0          0   \n",
       "\n",
       "    furniture  student  parking  \n",
       "21          0        0        0  \n",
       "\n",
       "[1 rows x 23 columns]"
      ]
     },
     "execution_count": 11,
     "metadata": {},
     "output_type": "execute_result"
    }
   ],
   "source": [
    "new_df.head(1)"
   ]
  },
  {
   "cell_type": "markdown",
   "id": "5068c46f",
   "metadata": {},
   "source": [
    "### Αυτά θα τα κάνω πιο μετά αλλά είναι μία αρχική ιδέα "
   ]
  },
  {
   "cell_type": "code",
   "execution_count": 12,
   "id": "546da273",
   "metadata": {},
   "outputs": [],
   "source": [
    "level_mapping = { \n",
    "    \"Υπερυψωμένο\": -2,\n",
    "    \"Υπόγειο\": -1,\n",
    "    \"Ημιυπόγειο\":-0.5,\n",
    "    \"Ισόγειο\": 0,\n",
    "    \"Ημιώροφος\": 0.5,\n",
    "    \"1ος\": 1,\n",
    "    \"2ος\": 2,\n",
    "    \"3ος\": 3,\n",
    "    \"4ος\": 4,\n",
    "    \"5ος\": 5,\n",
    "    \"6ος\": 6,\n",
    "    \"7ος\": 7,\n",
    "    \"8ος\": 8\n",
    "}\n",
    "\n",
    "ordinal_mapping = {\n",
    "    'Α+': 10,\n",
    "    'Α': 9,\n",
    "    'Β+': 8,\n",
    "    'Β': 7,\n",
    "    'Γ': 6,\n",
    "    'Δ': 5,\n",
    "    'Ε': 4,\n",
    "    'Ζ': 3,\n",
    "    'Η': 2,\n",
    "    'Μη αποδοτικό': 1,      \n",
    "    'Εκρεμμεί': 0,          \n",
    "    'Εξαιρείται': -1       \n",
    "}\n",
    "\n",
    "condition_mapping = {\n",
    "    'Νεόδμητο': 8,            \n",
    "    'Άριστη': 7,               \n",
    "    'Ανακαινισμένο': 6,        \n",
    "    'Καλή': 5,                 \n",
    "    'Χρήζει ανακαίνισης': 4,  \n",
    "    'Ημιτελές': 3,             \n",
    "    'Υπο κατασκευή': 2,    \n",
    "    'Άλλη κατάσταση': 1, \n",
    "\n",
    "}"
   ]
  },
  {
   "cell_type": "code",
   "execution_count": 13,
   "id": "efce687b",
   "metadata": {},
   "outputs": [],
   "source": [
    "#Kani lista ta levels gia na enfanizi ola ta diathesima diamerismata \n",
    "def map_levels(cell):\n",
    "    global level_mapping\n",
    "\n",
    "    if pd.isna(cell):\n",
    "        return None\n",
    "\n",
    "    parts = str(cell).split(',')\n",
    "    levels = []\n",
    "\n",
    "    for part in parts:\n",
    "        cleaned = part.strip()\n",
    "\n",
    "        mapped = level_mapping.get(cleaned)\n",
    "        if mapped is not None:\n",
    "            levels.append(mapped)\n",
    "\n",
    "    return levels if levels else None\n"
   ]
  },
  {
   "cell_type": "code",
   "execution_count": 14,
   "id": "5d52bf30",
   "metadata": {},
   "outputs": [
    {
     "data": {
      "text/html": [
       "<div>\n",
       "<style scoped>\n",
       "    .dataframe tbody tr th:only-of-type {\n",
       "        vertical-align: middle;\n",
       "    }\n",
       "\n",
       "    .dataframe tbody tr th {\n",
       "        vertical-align: top;\n",
       "    }\n",
       "\n",
       "    .dataframe thead th {\n",
       "        text-align: right;\n",
       "    }\n",
       "</style>\n",
       "<table border=\"1\" class=\"dataframe\">\n",
       "  <thead>\n",
       "    <tr style=\"text-align: right;\">\n",
       "      <th></th>\n",
       "      <th>res_date</th>\n",
       "      <th>res_type</th>\n",
       "      <th>res_address</th>\n",
       "      <th>res_price</th>\n",
       "      <th>res_price_sqr</th>\n",
       "      <th>res_sqr</th>\n",
       "      <th>construction_year</th>\n",
       "      <th>levels</th>\n",
       "      <th>bedrooms</th>\n",
       "      <th>bathrooms</th>\n",
       "      <th>...</th>\n",
       "      <th>energyclass</th>\n",
       "      <th>auto_heating</th>\n",
       "      <th>solar</th>\n",
       "      <th>cooling</th>\n",
       "      <th>safe_door</th>\n",
       "      <th>gas</th>\n",
       "      <th>fireplace</th>\n",
       "      <th>furniture</th>\n",
       "      <th>student</th>\n",
       "      <th>parking</th>\n",
       "    </tr>\n",
       "  </thead>\n",
       "  <tbody>\n",
       "    <tr>\n",
       "      <th>21</th>\n",
       "      <td>2019-08-08</td>\n",
       "      <td>Κτίριο</td>\n",
       "      <td>Πειραιάς,Καστέλα (Προφήτης Ηλίας)</td>\n",
       "      <td>360000</td>\n",
       "      <td>1324.0</td>\n",
       "      <td>272.0</td>\n",
       "      <td>1976.0</td>\n",
       "      <td>[0]</td>\n",
       "      <td>6.0</td>\n",
       "      <td>3.0</td>\n",
       "      <td>...</td>\n",
       "      <td>NaN</td>\n",
       "      <td>0</td>\n",
       "      <td>0</td>\n",
       "      <td>0</td>\n",
       "      <td>0</td>\n",
       "      <td>0</td>\n",
       "      <td>0</td>\n",
       "      <td>0</td>\n",
       "      <td>0</td>\n",
       "      <td>0</td>\n",
       "    </tr>\n",
       "  </tbody>\n",
       "</table>\n",
       "<p>1 rows × 23 columns</p>\n",
       "</div>"
      ],
      "text/plain": [
       "      res_date res_type                        res_address  res_price  \\\n",
       "21  2019-08-08   Κτίριο  Πειραιάς,Καστέλα (Προφήτης Ηλίας)     360000   \n",
       "\n",
       "    res_price_sqr  res_sqr  construction_year levels  bedrooms  bathrooms  \\\n",
       "21         1324.0    272.0             1976.0    [0]       6.0        3.0   \n",
       "\n",
       "    ...  energyclass auto_heating solar cooling  safe_door  gas  fireplace  \\\n",
       "21  ...          NaN            0     0       0          0    0          0   \n",
       "\n",
       "    furniture  student  parking  \n",
       "21          0        0        0  \n",
       "\n",
       "[1 rows x 23 columns]"
      ]
     },
     "execution_count": 14,
     "metadata": {},
     "output_type": "execute_result"
    }
   ],
   "source": [
    "new_df['levels'] = new_df['levels'].apply(map_levels)\n",
    "#new_df['energyclass'] = new_df['energyclass'].apply(ordinal_mapping)\n",
    "\n",
    "new_df.head(1)\n"
   ]
  }
 ],
 "metadata": {
  "kernelspec": {
   "display_name": "Python 3",
   "language": "python",
   "name": "python3"
  },
  "language_info": {
   "codemirror_mode": {
    "name": "ipython",
    "version": 3
   },
   "file_extension": ".py",
   "mimetype": "text/x-python",
   "name": "python",
   "nbconvert_exporter": "python",
   "pygments_lexer": "ipython3",
   "version": "3.11.9"
  }
 },
 "nbformat": 4,
 "nbformat_minor": 5
}
