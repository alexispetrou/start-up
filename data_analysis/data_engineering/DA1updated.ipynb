{
 "cells": [
  {
   "cell_type": "markdown",
   "id": "7997e562",
   "metadata": {},
   "source": [
    "### Διαβάζουμε το dataset"
   ]
  },
  {
   "cell_type": "code",
<<<<<<< HEAD
   "execution_count": 10,
=======
   "execution_count": 195,
>>>>>>> 5af17ab05f970c3cde9e0e1d496dc9f5a8b4bdc2
   "id": "65e6b4d1",
   "metadata": {},
   "outputs": [],
   "source": [
    "import pandas as pd\n",
    "\n",
    "df = pd.read_excel('../datasets/housing_data_gr.xlsx')"
   ]
  },
  {
   "cell_type": "code",
<<<<<<< HEAD
   "execution_count": 11,
=======
   "execution_count": 196,
>>>>>>> 5af17ab05f970c3cde9e0e1d496dc9f5a8b4bdc2
   "id": "6088e53d",
   "metadata": {},
   "outputs": [
    {
     "data": {
      "text/plain": [
       "20000"
      ]
     },
<<<<<<< HEAD
     "execution_count": 11,
=======
     "execution_count": 196,
>>>>>>> 5af17ab05f970c3cde9e0e1d496dc9f5a8b4bdc2
     "metadata": {},
     "output_type": "execute_result"
    }
   ],
   "source": [
    "len(df)"
   ]
  },
  {
   "cell_type": "code",
<<<<<<< HEAD
   "execution_count": 12,
=======
   "execution_count": 197,
>>>>>>> 5af17ab05f970c3cde9e0e1d496dc9f5a8b4bdc2
   "id": "4839ae93",
   "metadata": {},
   "outputs": [
    {
     "data": {
      "text/html": [
       "<div>\n",
       "<style scoped>\n",
       "    .dataframe tbody tr th:only-of-type {\n",
       "        vertical-align: middle;\n",
       "    }\n",
       "\n",
       "    .dataframe tbody tr th {\n",
       "        vertical-align: top;\n",
       "    }\n",
       "\n",
       "    .dataframe thead th {\n",
       "        text-align: right;\n",
       "    }\n",
       "</style>\n",
       "<table border=\"1\" class=\"dataframe\">\n",
       "  <thead>\n",
       "    <tr style=\"text-align: right;\">\n",
       "      <th></th>\n",
       "      <th>location_name</th>\n",
       "      <th>location_region</th>\n",
       "      <th>res_date</th>\n",
       "      <th>res_type</th>\n",
       "      <th>res_address</th>\n",
       "      <th>res_price</th>\n",
       "      <th>res_price_sqr</th>\n",
       "      <th>res_sqr</th>\n",
       "      <th>construction_year</th>\n",
       "      <th>levels</th>\n",
       "      <th>...</th>\n",
       "      <th>energyclass</th>\n",
       "      <th>auto_heating</th>\n",
       "      <th>solar</th>\n",
       "      <th>cooling</th>\n",
       "      <th>safe_door</th>\n",
       "      <th>gas</th>\n",
       "      <th>fireplace</th>\n",
       "      <th>furniture</th>\n",
       "      <th>student</th>\n",
       "      <th>parking</th>\n",
       "    </tr>\n",
       "  </thead>\n",
       "  <tbody>\n",
       "    <tr>\n",
       "      <th>0</th>\n",
       "      <td>Παλαιό Φάληρο</td>\n",
       "      <td>Αττική</td>\n",
       "      <td>2021-06-18</td>\n",
       "      <td>Διαμέρισμα</td>\n",
       "      <td>Παλαιό Φάληρο,Γήπεδα</td>\n",
       "      <td>89000</td>\n",
       "      <td>1618.0</td>\n",
       "      <td>55.0</td>\n",
       "      <td>1973.0</td>\n",
       "      <td>Υπερυψωμένο</td>\n",
       "      <td>...</td>\n",
       "      <td>Δ</td>\n",
       "      <td>1</td>\n",
       "      <td>0</td>\n",
       "      <td>1</td>\n",
       "      <td>1</td>\n",
       "      <td>0</td>\n",
       "      <td>0</td>\n",
       "      <td>0</td>\n",
       "      <td>0</td>\n",
       "      <td>NaN</td>\n",
       "    </tr>\n",
       "    <tr>\n",
       "      <th>1</th>\n",
       "      <td>Αχαρνές</td>\n",
       "      <td>Αττική</td>\n",
       "      <td>2022-03-30</td>\n",
       "      <td>Μεζονέτα</td>\n",
       "      <td>Αχαρνές,Λαθέα</td>\n",
       "      <td>150000</td>\n",
       "      <td>1531.0</td>\n",
       "      <td>98.0</td>\n",
       "      <td>2010.0</td>\n",
       "      <td>4ος</td>\n",
       "      <td>...</td>\n",
       "      <td>Γ</td>\n",
       "      <td>0</td>\n",
       "      <td>0</td>\n",
       "      <td>0</td>\n",
       "      <td>0</td>\n",
       "      <td>0</td>\n",
       "      <td>1</td>\n",
       "      <td>0</td>\n",
       "      <td>0</td>\n",
       "      <td>Κλειστό parking</td>\n",
       "    </tr>\n",
       "  </tbody>\n",
       "</table>\n",
       "<p>2 rows × 25 columns</p>\n",
       "</div>"
      ],
      "text/plain": [
       "   location_name location_region    res_date    res_type  \\\n",
       "0  Παλαιό Φάληρο          Αττική  2021-06-18  Διαμέρισμα   \n",
       "1        Αχαρνές          Αττική  2022-03-30    Μεζονέτα   \n",
       "\n",
       "            res_address  res_price  res_price_sqr  res_sqr  construction_year  \\\n",
       "0  Παλαιό Φάληρο,Γήπεδα      89000         1618.0     55.0             1973.0   \n",
       "1         Αχαρνές,Λαθέα     150000         1531.0     98.0             2010.0   \n",
       "\n",
       "        levels  ...  energyclass  auto_heating  solar cooling safe_door gas  \\\n",
       "0  Υπερυψωμένο  ...            Δ             1      0       1         1   0   \n",
       "1          4ος  ...            Γ             0      0       0         0   0   \n",
       "\n",
       "   fireplace  furniture  student          parking  \n",
       "0          0          0        0              NaN  \n",
       "1          1          0        0  Κλειστό parking  \n",
       "\n",
       "[2 rows x 25 columns]"
      ]
     },
<<<<<<< HEAD
     "execution_count": 12,
=======
     "execution_count": 197,
>>>>>>> 5af17ab05f970c3cde9e0e1d496dc9f5a8b4bdc2
     "metadata": {},
     "output_type": "execute_result"
    }
   ],
   "source": [
    "df.head(2)"
   ]
  },
  {
   "cell_type": "code",
<<<<<<< HEAD
   "execution_count": 13,
=======
   "execution_count": 198,
>>>>>>> 5af17ab05f970c3cde9e0e1d496dc9f5a8b4bdc2
   "id": "2b269706",
   "metadata": {},
   "outputs": [
    {
     "data": {
      "text/plain": [
       "np.int64(1000)"
      ]
     },
<<<<<<< HEAD
     "execution_count": 13,
=======
     "execution_count": 198,
>>>>>>> 5af17ab05f970c3cde9e0e1d496dc9f5a8b4bdc2
     "metadata": {},
     "output_type": "execute_result"
    }
   ],
   "source": [
    "x=(df[\"location_name\"] == \"Πειραιάς\").sum()\n",
    "x"
   ]
  },
  {
   "cell_type": "markdown",
   "id": "801531ec",
   "metadata": {},
   "source": [
    "## Θα ασχοληθούμε μόνο με Πειραιά"
   ]
  },
  {
   "cell_type": "code",
<<<<<<< HEAD
   "execution_count": 14,
=======
   "execution_count": 199,
>>>>>>> 5af17ab05f970c3cde9e0e1d496dc9f5a8b4bdc2
   "id": "1ef45b70",
   "metadata": {},
   "outputs": [],
   "source": [
    "new_df=df[df[\"location_name\"]== \"Πειραιάς\"]"
   ]
  },
  {
   "cell_type": "code",
<<<<<<< HEAD
   "execution_count": 15,
=======
   "execution_count": 200,
>>>>>>> 5af17ab05f970c3cde9e0e1d496dc9f5a8b4bdc2
   "id": "a8b08720",
   "metadata": {},
   "outputs": [
    {
     "data": {
      "text/plain": [
       "1000"
      ]
     },
<<<<<<< HEAD
     "execution_count": 15,
=======
     "execution_count": 200,
>>>>>>> 5af17ab05f970c3cde9e0e1d496dc9f5a8b4bdc2
     "metadata": {},
     "output_type": "execute_result"
    }
   ],
   "source": [
    "len(new_df)"
   ]
  },
  {
   "cell_type": "markdown",
   "id": "5b360de7",
   "metadata": {},
   "source": [
    "### Προφανώς δεν θέλουμε Location region,location name "
   ]
  },
  {
   "cell_type": "code",
<<<<<<< HEAD
   "execution_count": 16,
=======
   "execution_count": 201,
>>>>>>> 5af17ab05f970c3cde9e0e1d496dc9f5a8b4bdc2
   "id": "3a4b0118",
   "metadata": {},
   "outputs": [
    {
     "data": {
      "text/html": [
       "<div>\n",
       "<style scoped>\n",
       "    .dataframe tbody tr th:only-of-type {\n",
       "        vertical-align: middle;\n",
       "    }\n",
       "\n",
       "    .dataframe tbody tr th {\n",
       "        vertical-align: top;\n",
       "    }\n",
       "\n",
       "    .dataframe thead th {\n",
       "        text-align: right;\n",
       "    }\n",
       "</style>\n",
       "<table border=\"1\" class=\"dataframe\">\n",
       "  <thead>\n",
       "    <tr style=\"text-align: right;\">\n",
       "      <th></th>\n",
       "      <th>res_date</th>\n",
       "      <th>res_type</th>\n",
       "      <th>res_address</th>\n",
       "      <th>res_price</th>\n",
       "      <th>res_price_sqr</th>\n",
       "      <th>res_sqr</th>\n",
       "      <th>construction_year</th>\n",
       "      <th>levels</th>\n",
       "      <th>bedrooms</th>\n",
       "      <th>bathrooms</th>\n",
       "      <th>...</th>\n",
       "      <th>energyclass</th>\n",
       "      <th>auto_heating</th>\n",
       "      <th>solar</th>\n",
       "      <th>cooling</th>\n",
       "      <th>safe_door</th>\n",
       "      <th>gas</th>\n",
       "      <th>fireplace</th>\n",
       "      <th>furniture</th>\n",
       "      <th>student</th>\n",
       "      <th>parking</th>\n",
       "    </tr>\n",
       "  </thead>\n",
       "  <tbody>\n",
       "    <tr>\n",
       "      <th>21</th>\n",
       "      <td>2019-08-08</td>\n",
       "      <td>Κτίριο</td>\n",
       "      <td>Πειραιάς,Καστέλα (Προφήτης Ηλίας)</td>\n",
       "      <td>360000</td>\n",
       "      <td>1324.0</td>\n",
       "      <td>272.0</td>\n",
       "      <td>1976.0</td>\n",
       "      <td>Ισόγειο</td>\n",
       "      <td>6.0</td>\n",
       "      <td>3.0</td>\n",
       "      <td>...</td>\n",
       "      <td>NaN</td>\n",
       "      <td>0</td>\n",
       "      <td>0</td>\n",
       "      <td>0</td>\n",
       "      <td>0</td>\n",
       "      <td>0</td>\n",
       "      <td>0</td>\n",
       "      <td>0</td>\n",
       "      <td>0</td>\n",
       "      <td>NaN</td>\n",
       "    </tr>\n",
       "    <tr>\n",
       "      <th>36</th>\n",
       "      <td>2019-11-14</td>\n",
       "      <td>Διαμέρισμα</td>\n",
       "      <td>Πειραιάς,Κέντρο</td>\n",
       "      <td>176000</td>\n",
       "      <td>2000.0</td>\n",
       "      <td>88.0</td>\n",
       "      <td>1965.0</td>\n",
       "      <td>2ος</td>\n",
       "      <td>2.0</td>\n",
       "      <td>1.0</td>\n",
       "      <td>...</td>\n",
       "      <td>Η</td>\n",
       "      <td>0</td>\n",
       "      <td>0</td>\n",
       "      <td>0</td>\n",
       "      <td>0</td>\n",
       "      <td>1</td>\n",
       "      <td>0</td>\n",
       "      <td>0</td>\n",
       "      <td>0</td>\n",
       "      <td>NaN</td>\n",
       "    </tr>\n",
       "    <tr>\n",
       "      <th>77</th>\n",
       "      <td>2022-01-19</td>\n",
       "      <td>Κτίριο</td>\n",
       "      <td>Πειραιάς,Ταμπούρια</td>\n",
       "      <td>300000</td>\n",
       "      <td>857.0</td>\n",
       "      <td>350.0</td>\n",
       "      <td>1967.0</td>\n",
       "      <td>Ισόγειο,1ος,2ος,3ος</td>\n",
       "      <td>NaN</td>\n",
       "      <td>NaN</td>\n",
       "      <td>...</td>\n",
       "      <td>Η</td>\n",
       "      <td>0</td>\n",
       "      <td>0</td>\n",
       "      <td>0</td>\n",
       "      <td>0</td>\n",
       "      <td>0</td>\n",
       "      <td>0</td>\n",
       "      <td>0</td>\n",
       "      <td>0</td>\n",
       "      <td>NaN</td>\n",
       "    </tr>\n",
       "    <tr>\n",
       "      <th>135</th>\n",
       "      <td>2022-04-12</td>\n",
       "      <td>Διαμέρισμα</td>\n",
       "      <td>Πειραιάς,Νέο Φάληρο</td>\n",
       "      <td>213325</td>\n",
       "      <td>2667.0</td>\n",
       "      <td>80.0</td>\n",
       "      <td>2022.0</td>\n",
       "      <td>2ος</td>\n",
       "      <td>2.0</td>\n",
       "      <td>1.0</td>\n",
       "      <td>...</td>\n",
       "      <td>Α+</td>\n",
       "      <td>0</td>\n",
       "      <td>1</td>\n",
       "      <td>1</td>\n",
       "      <td>1</td>\n",
       "      <td>0</td>\n",
       "      <td>0</td>\n",
       "      <td>0</td>\n",
       "      <td>0</td>\n",
       "      <td>NaN</td>\n",
       "    </tr>\n",
       "    <tr>\n",
       "      <th>148</th>\n",
       "      <td>2022-04-19</td>\n",
       "      <td>Διαμέρισμα</td>\n",
       "      <td>Πειραιάς,Φρεαττύδα</td>\n",
       "      <td>630000</td>\n",
       "      <td>4500.0</td>\n",
       "      <td>140.0</td>\n",
       "      <td>1975.0</td>\n",
       "      <td>4ος</td>\n",
       "      <td>2.0</td>\n",
       "      <td>1.0</td>\n",
       "      <td>...</td>\n",
       "      <td>Ε</td>\n",
       "      <td>0</td>\n",
       "      <td>1</td>\n",
       "      <td>0</td>\n",
       "      <td>1</td>\n",
       "      <td>0</td>\n",
       "      <td>0</td>\n",
       "      <td>1</td>\n",
       "      <td>0</td>\n",
       "      <td>NaN</td>\n",
       "    </tr>\n",
       "    <tr>\n",
       "      <th>...</th>\n",
       "      <td>...</td>\n",
       "      <td>...</td>\n",
       "      <td>...</td>\n",
       "      <td>...</td>\n",
       "      <td>...</td>\n",
       "      <td>...</td>\n",
       "      <td>...</td>\n",
       "      <td>...</td>\n",
       "      <td>...</td>\n",
       "      <td>...</td>\n",
       "      <td>...</td>\n",
       "      <td>...</td>\n",
       "      <td>...</td>\n",
       "      <td>...</td>\n",
       "      <td>...</td>\n",
       "      <td>...</td>\n",
       "      <td>...</td>\n",
       "      <td>...</td>\n",
       "      <td>...</td>\n",
       "      <td>...</td>\n",
       "      <td>...</td>\n",
       "    </tr>\n",
       "    <tr>\n",
       "      <th>1341</th>\n",
       "      <td>2021-09-10</td>\n",
       "      <td>Διαμέρισμα</td>\n",
       "      <td>Πειραιάς,Νέο Φάληρο</td>\n",
       "      <td>300000</td>\n",
       "      <td>4762.0</td>\n",
       "      <td>63.0</td>\n",
       "      <td>NaN</td>\n",
       "      <td>6ος</td>\n",
       "      <td>1.0</td>\n",
       "      <td>1.0</td>\n",
       "      <td>...</td>\n",
       "      <td>Α+</td>\n",
       "      <td>1</td>\n",
       "      <td>1</td>\n",
       "      <td>1</td>\n",
       "      <td>1</td>\n",
       "      <td>0</td>\n",
       "      <td>0</td>\n",
       "      <td>1</td>\n",
       "      <td>0</td>\n",
       "      <td>NaN</td>\n",
       "    </tr>\n",
       "    <tr>\n",
       "      <th>1342</th>\n",
       "      <td>2022-04-02</td>\n",
       "      <td>Διαμέρισμα</td>\n",
       "      <td>Πειραιάς,Φρεαττύδα</td>\n",
       "      <td>165000</td>\n",
       "      <td>1602.0</td>\n",
       "      <td>103.0</td>\n",
       "      <td>1994.0</td>\n",
       "      <td>4ος</td>\n",
       "      <td>2.0</td>\n",
       "      <td>1.0</td>\n",
       "      <td>...</td>\n",
       "      <td>Δ</td>\n",
       "      <td>1</td>\n",
       "      <td>0</td>\n",
       "      <td>0</td>\n",
       "      <td>1</td>\n",
       "      <td>0</td>\n",
       "      <td>0</td>\n",
       "      <td>0</td>\n",
       "      <td>0</td>\n",
       "      <td>NaN</td>\n",
       "    </tr>\n",
       "    <tr>\n",
       "      <th>1343</th>\n",
       "      <td>2022-03-09</td>\n",
       "      <td>Διαμέρισμα</td>\n",
       "      <td>Πειραιάς,Καμίνια</td>\n",
       "      <td>145000</td>\n",
       "      <td>1179.0</td>\n",
       "      <td>123.0</td>\n",
       "      <td>1996.0</td>\n",
       "      <td>2ος</td>\n",
       "      <td>3.0</td>\n",
       "      <td>1.0</td>\n",
       "      <td>...</td>\n",
       "      <td>Ζ</td>\n",
       "      <td>0</td>\n",
       "      <td>1</td>\n",
       "      <td>1</td>\n",
       "      <td>1</td>\n",
       "      <td>0</td>\n",
       "      <td>0</td>\n",
       "      <td>0</td>\n",
       "      <td>0</td>\n",
       "      <td>NaN</td>\n",
       "    </tr>\n",
       "    <tr>\n",
       "      <th>1420</th>\n",
       "      <td>2022-03-17</td>\n",
       "      <td>Διαμέρισμα</td>\n",
       "      <td>Πειραιάς,Νέο Φάληρο</td>\n",
       "      <td>170000</td>\n",
       "      <td>2237.0</td>\n",
       "      <td>76.0</td>\n",
       "      <td>2000.0</td>\n",
       "      <td>2ος</td>\n",
       "      <td>2.0</td>\n",
       "      <td>1.0</td>\n",
       "      <td>...</td>\n",
       "      <td>Ε</td>\n",
       "      <td>1</td>\n",
       "      <td>0</td>\n",
       "      <td>0</td>\n",
       "      <td>1</td>\n",
       "      <td>0</td>\n",
       "      <td>0</td>\n",
       "      <td>0</td>\n",
       "      <td>0</td>\n",
       "      <td>NaN</td>\n",
       "    </tr>\n",
       "    <tr>\n",
       "      <th>1428</th>\n",
       "      <td>2021-06-25</td>\n",
       "      <td>Διαμέρισμα</td>\n",
       "      <td>Πειραιάς,Καμίνια</td>\n",
       "      <td>100000</td>\n",
       "      <td>1667.0</td>\n",
       "      <td>60.0</td>\n",
       "      <td>1970.0</td>\n",
       "      <td>1ος</td>\n",
       "      <td>1.0</td>\n",
       "      <td>1.0</td>\n",
       "      <td>...</td>\n",
       "      <td>Εκρεμμεί</td>\n",
       "      <td>0</td>\n",
       "      <td>0</td>\n",
       "      <td>0</td>\n",
       "      <td>1</td>\n",
       "      <td>0</td>\n",
       "      <td>0</td>\n",
       "      <td>0</td>\n",
       "      <td>0</td>\n",
       "      <td>NaN</td>\n",
       "    </tr>\n",
       "  </tbody>\n",
       "</table>\n",
       "<p>70 rows × 23 columns</p>\n",
       "</div>"
      ],
      "text/plain": [
       "        res_date    res_type                        res_address  res_price  \\\n",
       "21    2019-08-08      Κτίριο  Πειραιάς,Καστέλα (Προφήτης Ηλίας)     360000   \n",
       "36    2019-11-14  Διαμέρισμα                    Πειραιάς,Κέντρο     176000   \n",
       "77    2022-01-19      Κτίριο                 Πειραιάς,Ταμπούρια     300000   \n",
       "135   2022-04-12  Διαμέρισμα                Πειραιάς,Νέο Φάληρο     213325   \n",
       "148   2022-04-19  Διαμέρισμα                 Πειραιάς,Φρεαττύδα     630000   \n",
       "...          ...         ...                                ...        ...   \n",
       "1341  2021-09-10  Διαμέρισμα                Πειραιάς,Νέο Φάληρο     300000   \n",
       "1342  2022-04-02  Διαμέρισμα                 Πειραιάς,Φρεαττύδα     165000   \n",
       "1343  2022-03-09  Διαμέρισμα                   Πειραιάς,Καμίνια     145000   \n",
       "1420  2022-03-17  Διαμέρισμα                Πειραιάς,Νέο Φάληρο     170000   \n",
       "1428  2021-06-25  Διαμέρισμα                   Πειραιάς,Καμίνια     100000   \n",
       "\n",
       "      res_price_sqr  res_sqr  construction_year               levels  \\\n",
       "21           1324.0    272.0             1976.0              Ισόγειο   \n",
       "36           2000.0     88.0             1965.0                  2ος   \n",
       "77            857.0    350.0             1967.0  Ισόγειο,1ος,2ος,3ος   \n",
       "135          2667.0     80.0             2022.0                  2ος   \n",
       "148          4500.0    140.0             1975.0                  4ος   \n",
       "...             ...      ...                ...                  ...   \n",
       "1341         4762.0     63.0                NaN                  6ος   \n",
       "1342         1602.0    103.0             1994.0                  4ος   \n",
       "1343         1179.0    123.0             1996.0                  2ος   \n",
       "1420         2237.0     76.0             2000.0                  2ος   \n",
       "1428         1667.0     60.0             1970.0                  1ος   \n",
       "\n",
       "      bedrooms  bathrooms  ...  energyclass auto_heating solar cooling  \\\n",
       "21         6.0        3.0  ...          NaN            0     0       0   \n",
       "36         2.0        1.0  ...            Η            0     0       0   \n",
       "77         NaN        NaN  ...            Η            0     0       0   \n",
       "135        2.0        1.0  ...           Α+            0     1       1   \n",
       "148        2.0        1.0  ...            Ε            0     1       0   \n",
       "...        ...        ...  ...          ...          ...   ...     ...   \n",
       "1341       1.0        1.0  ...           Α+            1     1       1   \n",
       "1342       2.0        1.0  ...            Δ            1     0       0   \n",
       "1343       3.0        1.0  ...            Ζ            0     1       1   \n",
       "1420       2.0        1.0  ...            Ε            1     0       0   \n",
       "1428       1.0        1.0  ...     Εκρεμμεί            0     0       0   \n",
       "\n",
       "      safe_door  gas  fireplace  furniture  student  parking  \n",
       "21            0    0          0          0        0      NaN  \n",
       "36            0    1          0          0        0      NaN  \n",
       "77            0    0          0          0        0      NaN  \n",
       "135           1    0          0          0        0      NaN  \n",
       "148           1    0          0          1        0      NaN  \n",
       "...         ...  ...        ...        ...      ...      ...  \n",
       "1341          1    0          0          1        0      NaN  \n",
       "1342          1    0          0          0        0      NaN  \n",
       "1343          1    0          0          0        0      NaN  \n",
       "1420          1    0          0          0        0      NaN  \n",
       "1428          1    0          0          0        0      NaN  \n",
       "\n",
       "[70 rows x 23 columns]"
      ]
     },
<<<<<<< HEAD
     "execution_count": 16,
=======
     "execution_count": 201,
>>>>>>> 5af17ab05f970c3cde9e0e1d496dc9f5a8b4bdc2
     "metadata": {},
     "output_type": "execute_result"
    }
   ],
   "source": [
    "new_df = new_df.drop(columns=[\"location_region\", \"location_name\"])\n",
    "new_df.head(70)"
   ]
  },
  {
   "cell_type": "markdown",
   "id": "682513e9",
   "metadata": {},
   "source": [
    "### Για πόσα μέρη του Πειραιά έχουμε πληροφορίες??"
   ]
  },
  {
   "cell_type": "code",
<<<<<<< HEAD
   "execution_count": 17,
=======
   "execution_count": 202,
>>>>>>> 5af17ab05f970c3cde9e0e1d496dc9f5a8b4bdc2
   "id": "65be7177",
   "metadata": {},
   "outputs": [
    {
     "data": {
      "text/plain": [
       "count                 1000\n",
       "unique                  47\n",
       "top       Πειραιάς,Καμίνια\n",
       "freq                   103\n",
       "Name: res_address, dtype: object"
      ]
     },
<<<<<<< HEAD
     "execution_count": 17,
=======
     "execution_count": 202,
>>>>>>> 5af17ab05f970c3cde9e0e1d496dc9f5a8b4bdc2
     "metadata": {},
     "output_type": "execute_result"
    }
   ],
   "source": [
    "new_df[\"res_address\"].describe()"
   ]
  },
  {
   "cell_type": "markdown",
   "id": "71681967",
   "metadata": {},
   "source": [
    "47 όχι και άσχημα(Τι φάση γτ υπάρχουν καν 47...)"
   ]
  },
  {
   "cell_type": "code",
<<<<<<< HEAD
   "execution_count": 18,
=======
   "execution_count": 203,
>>>>>>> 5af17ab05f970c3cde9e0e1d496dc9f5a8b4bdc2
   "id": "056b8114",
   "metadata": {},
   "outputs": [
    {
     "data": {
      "text/plain": [
       "['Πειραιάς,Καστέλα (Προφήτης Ηλίας)',\n",
       " 'Πειραιάς,Κέντρο',\n",
       " 'Πειραιάς,Ταμπούρια',\n",
       " 'Πειραιάς,Νέο Φάληρο',\n",
       " 'Πειραιάς,Φρεαττύδα',\n",
       " 'Πειραιάς,Χατζηκυριάκειο',\n",
       " 'Πειραιάς,Καμίνια',\n",
       " 'Πειραιάς,Ευαγγελίστρια',\n",
       " 'Πειραιάς,ΟΣΕ',\n",
       " 'Πειραιάς,Κοκκινιά',\n",
       " 'Πειραιάς,Καλλίπολη',\n",
       " 'Πειραιάς,Μανιάτικα',\n",
       " 'Άγιος Ιωάννης Ρέντης,Κέντρο',\n",
       " 'Πειραιάς,Τερψιθέα',\n",
       " 'Πειραιάς,Πασαλιμάνι (Μαρίνα Ζέας)',\n",
       " 'Πειραιάς,Αγία Σοφία',\n",
       " 'Νίκαια,Μητρόπολη',\n",
       " 'Κερατσίνι,Ευγένεια',\n",
       " 'Πειραιάς,Κεντρικός Λιμένας',\n",
       " 'Δραπετσώνα,Ταμπάκικα',\n",
       " 'Πειραιάς,Βρυώνη',\n",
       " 'Δραπετσώνα,Άγιος Παντελεήμων',\n",
       " 'Κερατσίνι,Λιμάνι',\n",
       " 'Δραπετσώνα,Άγιος Διονύσιος',\n",
       " 'Μοσχάτο',\n",
       " 'Πειραιάς,Πλατεία Ιπποδαμείας',\n",
       " 'Πειραιάς,Πειραϊκή',\n",
       " 'Κερατσίνι,Ταμπούρια',\n",
       " 'Κερατσίνι,Άγιος Παντελεήμονας',\n",
       " 'Κερατσίνι,Ανάσταση',\n",
       " 'Δραπετσώνα,Νέος Οικισμός',\n",
       " 'Κερατσίνι,Πάρκο',\n",
       " 'Πειραιάς,Υδραίικα',\n",
       " 'Νίκαια,Κέντρο',\n",
       " 'Δραπετσώνα',\n",
       " 'Πειραιάς,Άγιος Βασίλειος',\n",
       " 'Pireas,Τερψιθέα',\n",
       " 'Πειραιάς,Μικρολίμανο',\n",
       " 'Πειραιάς,Ζωοδόχος Πηγή',\n",
       " 'Pireas,Βρυώνη',\n",
       " 'Κερατσίνι',\n",
       " 'Νίκαια,Κοκκινιά',\n",
       " 'Ταμπάκικα',\n",
       " 'Άγιος Ιωάννης Ρέντης,Αμαξοστάσιο ΟΣΕ',\n",
       " 'Κερατσίνι,Αμφιάλη',\n",
       " 'Δραπετσώνα,Λιπάσματα',\n",
       " 'Κερατσίνι,Άγιος Γεώργιος']"
      ]
     },
<<<<<<< HEAD
     "execution_count": 18,
=======
     "execution_count": 203,
>>>>>>> 5af17ab05f970c3cde9e0e1d496dc9f5a8b4bdc2
     "metadata": {},
     "output_type": "execute_result"
    }
   ],
   "source": [
    "list(new_df[\"res_address\"].unique())"
   ]
  },
  {
   "cell_type": "markdown",
   "id": "8ee8db6b",
   "metadata": {},
   "source": [
    "### οκ πήραμε και κάποιες γειτονικές περιοχές το οποίο δεν είναι απραίτητα κακό έχουμε ήδη λίγα δεδομένα(1000)"
   ]
  },
  {
   "cell_type": "markdown",
   "id": "fc1c1386",
   "metadata": {},
   "source": [
    "### Όπου έχει null στο parking θα το θεωρήσουμε false"
   ]
  },
  {
   "cell_type": "code",
<<<<<<< HEAD
   "execution_count": 19,
=======
   "execution_count": 204,
>>>>>>> 5af17ab05f970c3cde9e0e1d496dc9f5a8b4bdc2
   "id": "d3d1b679",
   "metadata": {},
   "outputs": [],
   "source": [
    "new_df['parking'] = new_df['parking'].notna()\n",
    "new_df['parking'] = new_df['parking'].astype(int)"
   ]
  },
  {
   "cell_type": "code",
<<<<<<< HEAD
   "execution_count": 20,
=======
   "execution_count": 205,
>>>>>>> 5af17ab05f970c3cde9e0e1d496dc9f5a8b4bdc2
   "id": "d30567fc",
   "metadata": {},
   "outputs": [
    {
     "data": {
      "text/html": [
       "<div>\n",
       "<style scoped>\n",
       "    .dataframe tbody tr th:only-of-type {\n",
       "        vertical-align: middle;\n",
       "    }\n",
       "\n",
       "    .dataframe tbody tr th {\n",
       "        vertical-align: top;\n",
       "    }\n",
       "\n",
       "    .dataframe thead th {\n",
       "        text-align: right;\n",
       "    }\n",
       "</style>\n",
       "<table border=\"1\" class=\"dataframe\">\n",
       "  <thead>\n",
       "    <tr style=\"text-align: right;\">\n",
       "      <th></th>\n",
       "      <th>res_date</th>\n",
       "      <th>res_type</th>\n",
       "      <th>res_address</th>\n",
       "      <th>res_price</th>\n",
       "      <th>res_price_sqr</th>\n",
       "      <th>res_sqr</th>\n",
       "      <th>construction_year</th>\n",
       "      <th>levels</th>\n",
       "      <th>bedrooms</th>\n",
       "      <th>bathrooms</th>\n",
       "      <th>...</th>\n",
       "      <th>energyclass</th>\n",
       "      <th>auto_heating</th>\n",
       "      <th>solar</th>\n",
       "      <th>cooling</th>\n",
       "      <th>safe_door</th>\n",
       "      <th>gas</th>\n",
       "      <th>fireplace</th>\n",
       "      <th>furniture</th>\n",
       "      <th>student</th>\n",
       "      <th>parking</th>\n",
       "    </tr>\n",
       "  </thead>\n",
       "  <tbody>\n",
       "    <tr>\n",
       "      <th>21</th>\n",
       "      <td>2019-08-08</td>\n",
       "      <td>Κτίριο</td>\n",
       "      <td>Πειραιάς,Καστέλα (Προφήτης Ηλίας)</td>\n",
       "      <td>360000</td>\n",
       "      <td>1324.0</td>\n",
       "      <td>272.0</td>\n",
       "      <td>1976.0</td>\n",
       "      <td>Ισόγειο</td>\n",
       "      <td>6.0</td>\n",
       "      <td>3.0</td>\n",
       "      <td>...</td>\n",
       "      <td>NaN</td>\n",
       "      <td>0</td>\n",
       "      <td>0</td>\n",
       "      <td>0</td>\n",
       "      <td>0</td>\n",
       "      <td>0</td>\n",
       "      <td>0</td>\n",
       "      <td>0</td>\n",
       "      <td>0</td>\n",
       "      <td>0</td>\n",
       "    </tr>\n",
       "  </tbody>\n",
       "</table>\n",
       "<p>1 rows × 23 columns</p>\n",
       "</div>"
      ],
      "text/plain": [
       "      res_date res_type                        res_address  res_price  \\\n",
       "21  2019-08-08   Κτίριο  Πειραιάς,Καστέλα (Προφήτης Ηλίας)     360000   \n",
       "\n",
       "    res_price_sqr  res_sqr  construction_year   levels  bedrooms  bathrooms  \\\n",
       "21         1324.0    272.0             1976.0  Ισόγειο       6.0        3.0   \n",
       "\n",
       "    ...  energyclass auto_heating solar cooling  safe_door  gas  fireplace  \\\n",
       "21  ...          NaN            0     0       0          0    0          0   \n",
       "\n",
       "    furniture  student  parking  \n",
       "21          0        0        0  \n",
       "\n",
       "[1 rows x 23 columns]"
      ]
     },
<<<<<<< HEAD
     "execution_count": 20,
=======
     "execution_count": 205,
>>>>>>> 5af17ab05f970c3cde9e0e1d496dc9f5a8b4bdc2
     "metadata": {},
     "output_type": "execute_result"
    }
   ],
   "source": [
    "new_df.head(1)"
   ]
  },
  {
   "cell_type": "markdown",
   "id": "bfb0bb82",
   "metadata": {},
   "source": [
    "apo edo kai kato kenourgia "
   ]
  },
  {
   "cell_type": "code",
<<<<<<< HEAD
   "execution_count": 21,
=======
   "execution_count": 206,
>>>>>>> 5af17ab05f970c3cde9e0e1d496dc9f5a8b4bdc2
   "id": "0dd06998",
   "metadata": {},
   "outputs": [
    {
     "data": {
      "text/html": [
       "<div>\n",
       "<style scoped>\n",
       "    .dataframe tbody tr th:only-of-type {\n",
       "        vertical-align: middle;\n",
       "    }\n",
       "\n",
       "    .dataframe tbody tr th {\n",
       "        vertical-align: top;\n",
       "    }\n",
       "\n",
       "    .dataframe thead th {\n",
       "        text-align: right;\n",
       "    }\n",
       "</style>\n",
       "<table border=\"1\" class=\"dataframe\">\n",
       "  <thead>\n",
       "    <tr style=\"text-align: right;\">\n",
       "      <th></th>\n",
       "      <th>res_date</th>\n",
       "      <th>res_type</th>\n",
       "      <th>res_address</th>\n",
       "      <th>res_sqr</th>\n",
       "      <th>construction_year</th>\n",
       "      <th>levels</th>\n",
       "      <th>bedrooms</th>\n",
       "      <th>bathrooms</th>\n",
       "      <th>deleted</th>\n",
       "      <th>deleted_at</th>\n",
       "      <th>...</th>\n",
       "      <th>auto_heating</th>\n",
       "      <th>solar</th>\n",
       "      <th>cooling</th>\n",
       "      <th>safe_door</th>\n",
       "      <th>gas</th>\n",
       "      <th>fireplace</th>\n",
       "      <th>furniture</th>\n",
       "      <th>student</th>\n",
       "      <th>parking</th>\n",
       "      <th>rent_month</th>\n",
       "    </tr>\n",
       "  </thead>\n",
       "  <tbody>\n",
       "    <tr>\n",
       "      <th>21</th>\n",
       "      <td>2019-08-08</td>\n",
       "      <td>Κτίριο</td>\n",
       "      <td>Πειραιάς,Καστέλα (Προφήτης Ηλίας)</td>\n",
       "      <td>272.0</td>\n",
       "      <td>1976.0</td>\n",
       "      <td>Ισόγειο</td>\n",
       "      <td>6.0</td>\n",
       "      <td>3.0</td>\n",
       "      <td>1</td>\n",
       "      <td>2022-05-17 00:00:00</td>\n",
       "      <td>...</td>\n",
       "      <td>0</td>\n",
       "      <td>0</td>\n",
       "      <td>0</td>\n",
       "      <td>0</td>\n",
       "      <td>0</td>\n",
       "      <td>0</td>\n",
       "      <td>0</td>\n",
       "      <td>0</td>\n",
       "      <td>0</td>\n",
       "      <td>1500.000000</td>\n",
       "    </tr>\n",
       "    <tr>\n",
       "      <th>36</th>\n",
       "      <td>2019-11-14</td>\n",
       "      <td>Διαμέρισμα</td>\n",
       "      <td>Πειραιάς,Κέντρο</td>\n",
       "      <td>88.0</td>\n",
       "      <td>1965.0</td>\n",
       "      <td>2ος</td>\n",
       "      <td>2.0</td>\n",
       "      <td>1.0</td>\n",
       "      <td>1</td>\n",
       "      <td>2022-06-10 00:00:00</td>\n",
       "      <td>...</td>\n",
       "      <td>0</td>\n",
       "      <td>0</td>\n",
       "      <td>0</td>\n",
       "      <td>0</td>\n",
       "      <td>1</td>\n",
       "      <td>0</td>\n",
       "      <td>0</td>\n",
       "      <td>0</td>\n",
       "      <td>0</td>\n",
       "      <td>733.333333</td>\n",
       "    </tr>\n",
       "    <tr>\n",
       "      <th>77</th>\n",
       "      <td>2022-01-19</td>\n",
       "      <td>Κτίριο</td>\n",
       "      <td>Πειραιάς,Ταμπούρια</td>\n",
       "      <td>350.0</td>\n",
       "      <td>1967.0</td>\n",
       "      <td>Ισόγειο,1ος,2ος,3ος</td>\n",
       "      <td>NaN</td>\n",
       "      <td>NaN</td>\n",
       "      <td>1</td>\n",
       "      <td>2022-06-10 00:00:00</td>\n",
       "      <td>...</td>\n",
       "      <td>0</td>\n",
       "      <td>0</td>\n",
       "      <td>0</td>\n",
       "      <td>0</td>\n",
       "      <td>0</td>\n",
       "      <td>0</td>\n",
       "      <td>0</td>\n",
       "      <td>0</td>\n",
       "      <td>0</td>\n",
       "      <td>1250.000000</td>\n",
       "    </tr>\n",
       "  </tbody>\n",
       "</table>\n",
       "<p>3 rows × 22 columns</p>\n",
       "</div>"
      ],
      "text/plain": [
       "      res_date    res_type                        res_address  res_sqr  \\\n",
       "21  2019-08-08      Κτίριο  Πειραιάς,Καστέλα (Προφήτης Ηλίας)    272.0   \n",
       "36  2019-11-14  Διαμέρισμα                    Πειραιάς,Κέντρο     88.0   \n",
       "77  2022-01-19      Κτίριο                 Πειραιάς,Ταμπούρια    350.0   \n",
       "\n",
       "    construction_year               levels  bedrooms  bathrooms  deleted  \\\n",
       "21             1976.0              Ισόγειο       6.0        3.0        1   \n",
       "36             1965.0                  2ος       2.0        1.0        1   \n",
       "77             1967.0  Ισόγειο,1ος,2ος,3ος       NaN        NaN        1   \n",
       "\n",
       "             deleted_at  ... auto_heating solar  cooling  safe_door  gas  \\\n",
       "21  2022-05-17 00:00:00  ...            0     0        0          0    0   \n",
       "36  2022-06-10 00:00:00  ...            0     0        0          0    1   \n",
       "77  2022-06-10 00:00:00  ...            0     0        0          0    0   \n",
       "\n",
       "    fireplace  furniture  student  parking   rent_month  \n",
       "21          0          0        0        0  1500.000000  \n",
       "36          0          0        0        0   733.333333  \n",
       "77          0          0        0        0  1250.000000  \n",
       "\n",
       "[3 rows x 22 columns]"
      ]
     },
<<<<<<< HEAD
     "execution_count": 21,
=======
     "execution_count": 206,
>>>>>>> 5af17ab05f970c3cde9e0e1d496dc9f5a8b4bdc2
     "metadata": {},
     "output_type": "execute_result"
    }
   ],
   "source": [
    "new_df['rent_month'] = (new_df['res_price'] * 0.05) / 12\n",
    "new_df=new_df.drop(columns=[\"res_price\", \"res_price_sqr\"])\n",
    "new_df.head(3)"
   ]
  },
  {
   "cell_type": "code",
<<<<<<< HEAD
   "execution_count": 22,
=======
   "execution_count": 207,
>>>>>>> 5af17ab05f970c3cde9e0e1d496dc9f5a8b4bdc2
   "id": "25400223",
   "metadata": {},
   "outputs": [],
   "source": [
    "import pandas as pd\n",
    "import numpy as np\n",
    "from sklearn.model_selection import train_test_split\n",
    "from sklearn.preprocessing import StandardScaler, OneHotEncoder\n",
    "from sklearn.compose import ColumnTransformer\n",
    "from sklearn.pipeline import Pipeline\n",
    "from sklearn.impute import SimpleImputer\n",
    "from sklearn.ensemble import RandomForestRegressor\n",
    "from sklearn.metrics import mean_absolute_error, mean_squared_error, r2_score\n",
    "from sklearn.linear_model import Ridge"
   ]
  },
  {
   "cell_type": "code",
<<<<<<< HEAD
   "execution_count": 23,
=======
   "execution_count": 208,
>>>>>>> 5af17ab05f970c3cde9e0e1d496dc9f5a8b4bdc2
   "id": "bfdeeb3f",
   "metadata": {},
   "outputs": [],
   "source": [
    "def remove_outliers_iqr(data, columns):\n",
    "    for col in columns:\n",
    "        Q1 = data[col].quantile(0.25)\n",
    "        Q3 = data[col].quantile(0.75)\n",
    "        IQR = Q3 - Q1\n",
    "        lower = Q1 - 1.5 * IQR\n",
    "        upper = Q3 + 1.5 * IQR\n",
    "        data = data[(data[col] >= lower) & (data[col] <= upper)]\n",
    "    return data"
   ]
  },
  {
   "cell_type": "code",
<<<<<<< HEAD
   "execution_count": 24,
=======
   "execution_count": 209,
>>>>>>> 5af17ab05f970c3cde9e0e1d496dc9f5a8b4bdc2
   "id": "3930cab9",
   "metadata": {},
   "outputs": [],
   "source": [
    "new_df=remove_outliers_iqr(new_df, ['rent_month'])"
   ]
  },
  {
   "cell_type": "code",
<<<<<<< HEAD
   "execution_count": 25,
   "id": "54ae16d1",
   "metadata": {},
   "outputs": [
    {
     "data": {
      "text/plain": [
       "933"
      ]
     },
     "execution_count": 25,
     "metadata": {},
     "output_type": "execute_result"
    }
   ],
   "source": [
    "len(new_df)"
   ]
  },
  {
   "cell_type": "code",
   "execution_count": 26,
=======
   "execution_count": 210,
>>>>>>> 5af17ab05f970c3cde9e0e1d496dc9f5a8b4bdc2
   "id": "cf777f58",
   "metadata": {},
   "outputs": [],
   "source": [
    "#Ανάλυση correlation και covariance\n",
    "cor_matrix = new_df.corr(numeric_only=True)\n",
    "low_corr_features = cor_matrix.columns[(cor_matrix.abs() < 0.1).all()]\n",
    "high_corr_pairs = [(i, j) for i in cor_matrix.columns for j in cor_matrix.columns if i != j and abs(cor_matrix.loc[i, j]) > 0.95]"
   ]
  },
  {
   "cell_type": "code",
<<<<<<< HEAD
   "execution_count": 27,
=======
   "execution_count": 211,
>>>>>>> 5af17ab05f970c3cde9e0e1d496dc9f5a8b4bdc2
   "id": "a28b7673",
   "metadata": {},
   "outputs": [],
   "source": [
    "# Αφαίρεση low correlation\n",
    "new_df = new_df.drop(columns=low_corr_features)\n",
    "redundant_features = [pair[1] for pair in high_corr_pairs]\n",
    "new_df = new_df.drop(columns=list(set(redundant_features)))"
   ]
  },
  {
   "cell_type": "code",
<<<<<<< HEAD
   "execution_count": 28,
=======
   "execution_count": 212,
>>>>>>> 5af17ab05f970c3cde9e0e1d496dc9f5a8b4bdc2
   "id": "5a5281bd",
   "metadata": {},
   "outputs": [
    {
     "data": {
      "text/plain": [
       "(746, 187)"
      ]
     },
<<<<<<< HEAD
     "execution_count": 28,
=======
     "execution_count": 212,
>>>>>>> 5af17ab05f970c3cde9e0e1d496dc9f5a8b4bdc2
     "metadata": {},
     "output_type": "execute_result"
    }
   ],
   "source": [
    "train_df, test_df = train_test_split(new_df, test_size=0.2, random_state=42)\n",
    "train_df.shape[0], test_df.shape[0]"
   ]
  },
  {
   "cell_type": "code",
<<<<<<< HEAD
   "execution_count": 29,
=======
   "execution_count": 213,
>>>>>>> 5af17ab05f970c3cde9e0e1d496dc9f5a8b4bdc2
   "id": "1acb9e21",
   "metadata": {},
   "outputs": [],
   "source": [
    "train_df, val_df = train_test_split(train_df, test_size=0.25, random_state=42)"
   ]
  },
  {
   "cell_type": "code",
<<<<<<< HEAD
   "execution_count": 30,
=======
   "execution_count": 214,
>>>>>>> 5af17ab05f970c3cde9e0e1d496dc9f5a8b4bdc2
   "id": "0cf4df08",
   "metadata": {},
   "outputs": [],
   "source": [
    "num_features = train_df.select_dtypes(include=[np.number]).columns.tolist()\n",
    "cat_features = train_df.select_dtypes(include=['object', 'category']).columns.tolist()\n",
    "\n",
    "numeric_pipeline = Pipeline([\n",
    "    ('imputer', SimpleImputer(strategy='mean')),\n",
    "    ('scaler', StandardScaler())\n",
    "])\n",
    "\n",
    "categorical_pipeline = Pipeline([\n",
    "    ('imputer', SimpleImputer(strategy='most_frequent')),\n",
    "    ('encoder', OneHotEncoder(handle_unknown='ignore'))\n",
    "])\n",
    "\n",
    "preprocessor = ColumnTransformer([\n",
    "    ('num', numeric_pipeline, num_features),\n",
    "    ('cat', categorical_pipeline, cat_features)\n",
    "])\n",
    "\n",
    "# 6. Fit στο train, transform σε val/test\n",
    "X_train = preprocessor.fit_transform(train_df)\n",
    "X_val = preprocessor.transform(val_df)\n",
    "X_test = preprocessor.transform(test_df)"
   ]
  },
  {
   "cell_type": "markdown",
   "id": "818df204",
   "metadata": {},
   "source": [
    "Kodikoiisi"
   ]
  },
  {
   "cell_type": "code",
   "execution_count": 215,
   "id": "ff3e8d71",
   "metadata": {},
   "outputs": [],
   "source": [
    "def map_levels(cell):\n",
    "    global level_mapping\n",
    "\n",
    "    if pd.isna(cell):\n",
    "        return None\n",
    "\n",
    "    parts = str(cell).split(',')\n",
    "    levels = []\n",
    "\n",
    "    for part in parts:\n",
    "        cleaned = part.strip()\n",
    "\n",
    "        mapped = level_mapping.get(cleaned)\n",
    "        if mapped is not None:\n",
    "            levels.append(mapped)\n",
    "\n",
    "    return levels if levels else None"
   ]
  },
  {
   "cell_type": "code",
   "execution_count": 216,
   "id": "d889f3f5",
   "metadata": {},
   "outputs": [],
   "source": [
    "level_mapping = { \n",
    "    \"Υπερυψωμένο\": 0.5,\n",
    "    \"Υπόγειο\": -1,\n",
    "    \"Ημιυπόγειο\":-0.5,\n",
    "    \"Ισόγειο\": 0,\n",
    "    \"Ημιώροφος\": 0.5,\n",
    "    \"1ος\": 1,\n",
    "    \"2ος\": 2,\n",
    "    \"3ος\": 3,\n",
    "    \"4ος\": 4,\n",
    "    \"5ος\": 5,\n",
    "    \"6ος\": 6,\n",
    "    \"7ος\": 7,\n",
    "    \"8ος\": 8\n",
    "}\n",
    "\n",
    "ordinal_mapping = {\n",
    "    'Α+': 10,\n",
    "    'Α': 9,\n",
    "    'Β+': 8,\n",
    "    'Β': 7,\n",
    "    'Γ': 6,\n",
    "    'Δ': 5,\n",
    "    'Ε': 4,\n",
    "    'Ζ': 3,\n",
    "    'Η': 2,\n",
    "    'Μη αποδοτικό': 1,      \n",
    "    'Εκρεμμεί': 0,          \n",
    "    'Εξαιρείται': -1       \n",
    "}\n",
    "\n",
    "condition_mapping = {\n",
    "    'Νεόδμητο': 8,            \n",
    "    'Άριστη': 7,               \n",
    "    'Ανακαινισμένο': 6,        \n",
    "    'Καλή': 5,                 \n",
    "    'Χρήζει ανακαίνισης': 4,  \n",
    "    'Ημιτελές': 3,             \n",
    "    'Υπο κατασκευή': 2,    \n",
    "    'Άλλη κατάσταση': 1, \n",
    "}"
   ]
  },
  {
   "cell_type": "code",
   "execution_count": 217,
   "id": "5902b824",
   "metadata": {},
   "outputs": [
    {
     "data": {
      "text/html": [
       "<div>\n",
       "<style scoped>\n",
       "    .dataframe tbody tr th:only-of-type {\n",
       "        vertical-align: middle;\n",
       "    }\n",
       "\n",
       "    .dataframe tbody tr th {\n",
       "        vertical-align: top;\n",
       "    }\n",
       "\n",
       "    .dataframe thead th {\n",
       "        text-align: right;\n",
       "    }\n",
       "</style>\n",
       "<table border=\"1\" class=\"dataframe\">\n",
       "  <thead>\n",
       "    <tr style=\"text-align: right;\">\n",
       "      <th></th>\n",
       "      <th>res_date</th>\n",
       "      <th>res_type</th>\n",
       "      <th>res_address</th>\n",
       "      <th>res_sqr</th>\n",
       "      <th>construction_year</th>\n",
       "      <th>levels</th>\n",
       "      <th>bedrooms</th>\n",
       "      <th>bathrooms</th>\n",
       "      <th>deleted</th>\n",
       "      <th>deleted_at</th>\n",
       "      <th>...</th>\n",
       "      <th>auto_heating</th>\n",
       "      <th>solar</th>\n",
       "      <th>cooling</th>\n",
       "      <th>safe_door</th>\n",
       "      <th>gas</th>\n",
       "      <th>fireplace</th>\n",
       "      <th>furniture</th>\n",
       "      <th>student</th>\n",
       "      <th>parking</th>\n",
       "      <th>rent_month</th>\n",
       "    </tr>\n",
       "  </thead>\n",
       "  <tbody>\n",
       "    <tr>\n",
       "      <th>21</th>\n",
       "      <td>2019-08-08</td>\n",
       "      <td>Κτίριο</td>\n",
       "      <td>Πειραιάς,Καστέλα (Προφήτης Ηλίας)</td>\n",
       "      <td>272.0</td>\n",
       "      <td>1976.0</td>\n",
       "      <td>[0]</td>\n",
       "      <td>6.0</td>\n",
       "      <td>3.0</td>\n",
       "      <td>1</td>\n",
       "      <td>2022-05-17 00:00:00</td>\n",
       "      <td>...</td>\n",
       "      <td>0</td>\n",
       "      <td>0</td>\n",
       "      <td>0</td>\n",
       "      <td>0</td>\n",
       "      <td>0</td>\n",
       "      <td>0</td>\n",
       "      <td>0</td>\n",
       "      <td>0</td>\n",
       "      <td>0</td>\n",
       "      <td>1500.0</td>\n",
       "    </tr>\n",
       "  </tbody>\n",
       "</table>\n",
       "<p>1 rows × 22 columns</p>\n",
       "</div>"
      ],
      "text/plain": [
       "      res_date res_type                        res_address  res_sqr  \\\n",
       "21  2019-08-08   Κτίριο  Πειραιάς,Καστέλα (Προφήτης Ηλίας)    272.0   \n",
       "\n",
       "    construction_year levels  bedrooms  bathrooms  deleted  \\\n",
       "21             1976.0    [0]       6.0        3.0        1   \n",
       "\n",
       "             deleted_at  ...  auto_heating  solar  cooling  safe_door  gas  \\\n",
       "21  2022-05-17 00:00:00  ...             0      0        0          0    0   \n",
       "\n",
       "    fireplace  furniture  student  parking  rent_month  \n",
       "21          0          0        0        0      1500.0  \n",
       "\n",
       "[1 rows x 22 columns]"
      ]
     },
     "execution_count": 217,
     "metadata": {},
     "output_type": "execute_result"
    }
   ],
   "source": [
    "new_df['levels'] = new_df['levels'].apply(map_levels)\n",
    "new_df['energyclass'] = new_df['energyclass'].map(ordinal_mapping)\n",
    "new_df['status'] = new_df['status'].map(condition_mapping)\n",
    "new_df.head(1)"
   ]
  },
  {
   "cell_type": "code",
   "execution_count": null,
   "id": "27137abf",
   "metadata": {},
   "outputs": [
    {
     "name": "stdout",
     "output_type": "stream",
     "text": [
      "\n",
      "📊 Train Metrics:\n",
      "  MAE:  1.326\n",
      "  MSE:  3.171\n",
      "  RMSE: 1.781\n",
      "  R²:   1.000\n",
      "\n",
      "📊 Validation Metrics:\n",
      "  MAE:  2.476\n",
      "  MSE:  12.142\n",
      "  RMSE: 3.485\n",
      "  R²:   1.000\n",
      "\n",
      "📊 Test Metrics:\n",
      "  MAE:  2.371\n",
      "  MSE:  10.561\n",
      "  RMSE: 3.250\n",
      "  R²:   1.000\n"
     ]
    }
   ],
   "source": [
    "y_train = train_df['rent_month']\n",
    "y_val = val_df['rent_month']\n",
    "y_test = test_df['rent_month']\n",
    "\n",
    "model = RandomForestRegressor(random_state=42)\n",
    "model.fit(X_train, y_train)\n",
    "\n",
    "y_pred_train = model.predict(X_train)\n",
    "y_pred_val = model.predict(X_val)\n",
    "y_pred_test = model.predict(X_test)\n",
    "\n",
    "def print_metrics(y_true, y_pred, label):\n",
    "    mae = mean_absolute_error(y_true, y_pred)\n",
    "    mse = mean_squared_error(y_true, y_pred)\n",
    "    rmse = np.sqrt(mse)\n",
    "    r2 = r2_score(y_true, y_pred)\n",
    "    print(f\"\\n📊 {label} Metrics:\")\n",
    "    print(f\"  MAE:  {mae:.3f}\")\n",
    "    print(f\"  MSE:  {mse:.3f}\")\n",
    "    print(f\"  RMSE: {rmse:.3f}\")\n",
    "    print(f\"  R²:   {r2:.3f}\")\n",
    "\n",
    "print_metrics(y_train, y_pred_train, \"Train\")\n",
    "print_metrics(y_val, y_pred_val, \"Validation\")\n",
    "print_metrics(y_test, y_pred_test, \"Test\")"
   ]
  }
 ],
 "metadata": {
  "kernelspec": {
   "display_name": "Python 3",
   "language": "python",
   "name": "python3"
  },
  "language_info": {
   "codemirror_mode": {
    "name": "ipython",
    "version": 3
   },
   "file_extension": ".py",
   "mimetype": "text/x-python",
   "name": "python",
   "nbconvert_exporter": "python",
   "pygments_lexer": "ipython3",
   "version": "3.10.11"
  }
 },
 "nbformat": 4,
 "nbformat_minor": 5
}
